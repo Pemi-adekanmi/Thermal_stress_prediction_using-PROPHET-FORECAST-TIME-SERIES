{
  "nbformat": 4,
  "nbformat_minor": 0,
  "metadata": {
    "colab": {
      "name": "Copy of Copy of  Transient Thermal values thru. The whole vessel (Max.)Transient Analysis SS.ipynb",
      "provenance": [],
      "collapsed_sections": [],
      "toc_visible": true
    },
    "kernelspec": {
      "display_name": "Python 3",
      "name": "python3"
    }
  },
  "cells": [
    {
      "cell_type": "markdown",
      "metadata": {
        "id": "-gg6MQLBJLGP"
      },
      "source": [
        "### Libraries"
      ]
    },
    {
      "cell_type": "code",
      "metadata": {
        "id": "aKBqKV1jpbfV"
      },
      "source": [
        "#Time Series libraries\n",
        "import numpy as np\n",
        "import pandas as pd\n",
        "pd.set_option('display.expand_frame_repr', False)\n",
        "pd.set_option('display.max_columns', 500)\n",
        "pd.set_option('display.width', 1000)\n",
        "\n",
        "import matplotlib.pyplot as plt\n",
        "import seaborn as sns\n",
        "import warnings\n",
        "import itertools\n",
        "import matplotlib\n",
        "matplotlib.rcParams['axes.labelsize'] = 14\n",
        "matplotlib.rcParams['xtick.labelsize'] = 12\n",
        "matplotlib.rcParams['ytick.labelsize'] = 12\n",
        "matplotlib.rcParams['text.color'] = 'k'\n",
        "warnings.filterwarnings(\"ignore\")\n",
        "plt.style.use('fivethirtyeight')\n",
        "\n",
        "import statsmodels.api as sm\n",
        "from statsmodels.graphics.tsaplots import plot_acf\n",
        "from statsmodels.graphics.tsaplots import plot_pacf\n",
        "from statsmodels.tsa.stattools import adfuller\n",
        "from statsmodels.tsa.seasonal import seasonal_decompose\n",
        "\n",
        "import datetime\n",
        "from fbprophet import Prophet\n",
        "from math import sqrt\n",
        "from random import random\n",
        "from sklearn.metrics import mean_squared_error, r2_score, mean_absolute_error, median_absolute_error, mean_squared_log_error"
      ],
      "execution_count": null,
      "outputs": []
    },
    {
      "cell_type": "code",
      "metadata": {
        "id": "3ol6bsQ90dZU"
      },
      "source": [
        "#function for evaluation metrics\n",
        "def mean_absolute_percentage_error(y_true, y_pred): \n",
        "    return np.mean(np.abs((y_true - y_pred) / y_true)) * 100\n",
        "\n",
        "def evaluate_forecast(y,pred):\n",
        "    results = pd.DataFrame({'mean_absolute_error':mean_absolute_error(y, pred),\n",
        "                           }, index=[0])\n",
        "    results['median_absolute_error'] = median_absolute_error(y, pred)\n",
        "    results['mse'] = mean_squared_error(y, pred)\n",
        "    #results['msle'] = mean_squared_log_error(y, pred)\n",
        "    results['mape'] = mean_absolute_percentage_error(y.values, pred.values)\n",
        "    results['rmse'] = np.sqrt(results['mse'])\n",
        "    return results"
      ],
      "execution_count": null,
      "outputs": []
    },
    {
      "cell_type": "markdown",
      "metadata": {
        "id": "iUo7xi_2JPui"
      },
      "source": [
        "## Data Cleaning"
      ]
    },
    {
      "cell_type": "code",
      "metadata": {
        "id": "WATrUH8hp7m5"
      },
      "source": [
        "filename = 'Transient_Analysis.xlsx'\n",
        "sheet ='Sheet2'"
      ],
      "execution_count": null,
      "outputs": []
    },
    {
      "cell_type": "code",
      "metadata": {
        "id": "cTL4ZzZRqMG6"
      },
      "source": [
        "#load data\n",
        "data = pd.read_excel(filename, sheet_name=sheet)"
      ],
      "execution_count": null,
      "outputs": []
    },
    {
      "cell_type": "code",
      "metadata": {
        "id": "w_ZDmT8iwJlG"
      },
      "source": [
        "data['Time(s)'] = pd.to_datetime(data['Time(s)'], unit=\"s\")"
      ],
      "execution_count": null,
      "outputs": []
    },
    {
      "cell_type": "code",
      "metadata": {
        "colab": {
          "base_uri": "https://localhost:8080/",
          "height": 306
        },
        "id": "UkYfMZBVqPKi",
        "outputId": "d26dc745-fd98-41ed-c602-de82cbae31f7"
      },
      "source": [
        "#view top rows\n",
        "data.head()"
      ],
      "execution_count": null,
      "outputs": [
        {
          "output_type": "execute_result",
          "data": {
            "text/html": [
              "<div>\n",
              "<style scoped>\n",
              "    .dataframe tbody tr th:only-of-type {\n",
              "        vertical-align: middle;\n",
              "    }\n",
              "\n",
              "    .dataframe tbody tr th {\n",
              "        vertical-align: top;\n",
              "    }\n",
              "\n",
              "    .dataframe thead th {\n",
              "        text-align: right;\n",
              "    }\n",
              "</style>\n",
              "<table border=\"1\" class=\"dataframe\">\n",
              "  <thead>\n",
              "    <tr style=\"text-align: right;\">\n",
              "      <th></th>\n",
              "      <th>Time(s)</th>\n",
              "      <th>Material</th>\n",
              "      <th>Condition</th>\n",
              "      <th>Minimum(deg. C)</th>\n",
              "      <th>Maximum(deg. C)</th>\n",
              "      <th>Average(deg. C)</th>\n",
              "    </tr>\n",
              "  </thead>\n",
              "  <tbody>\n",
              "    <tr>\n",
              "      <th>0</th>\n",
              "      <td>1970-01-01 00:00:00.010</td>\n",
              "      <td>CS</td>\n",
              "      <td>Transient Thermal values thru. The whole vessel</td>\n",
              "      <td>-805.78</td>\n",
              "      <td>1309.4</td>\n",
              "      <td>353.12</td>\n",
              "    </tr>\n",
              "    <tr>\n",
              "      <th>1</th>\n",
              "      <td>1970-01-01 00:00:00.020</td>\n",
              "      <td>CS</td>\n",
              "      <td>Transient Thermal values thru. The whole vessel</td>\n",
              "      <td>-795.60</td>\n",
              "      <td>1300.0</td>\n",
              "      <td>353.52</td>\n",
              "    </tr>\n",
              "    <tr>\n",
              "      <th>2</th>\n",
              "      <td>1970-01-01 00:00:00.030</td>\n",
              "      <td>CS</td>\n",
              "      <td>Transient Thermal values thru. The whole vessel</td>\n",
              "      <td>-785.52</td>\n",
              "      <td>1300.0</td>\n",
              "      <td>353.93</td>\n",
              "    </tr>\n",
              "    <tr>\n",
              "      <th>3</th>\n",
              "      <td>1970-01-01 00:00:00.040</td>\n",
              "      <td>CS</td>\n",
              "      <td>Transient Thermal values thru. The whole vessel</td>\n",
              "      <td>-775.53</td>\n",
              "      <td>1300.0</td>\n",
              "      <td>354.36</td>\n",
              "    </tr>\n",
              "    <tr>\n",
              "      <th>4</th>\n",
              "      <td>1970-01-01 00:00:00.050</td>\n",
              "      <td>CS</td>\n",
              "      <td>Transient Thermal values thru. The whole vessel</td>\n",
              "      <td>-765.63</td>\n",
              "      <td>1300.0</td>\n",
              "      <td>354.80</td>\n",
              "    </tr>\n",
              "  </tbody>\n",
              "</table>\n",
              "</div>"
            ],
            "text/plain": [
              "                  Time(s) Material                                        Condition  Minimum(deg. C)  Maximum(deg. C)  Average(deg. C)\n",
              "0 1970-01-01 00:00:00.010       CS  Transient Thermal values thru. The whole vessel          -805.78           1309.4           353.12\n",
              "1 1970-01-01 00:00:00.020       CS  Transient Thermal values thru. The whole vessel          -795.60           1300.0           353.52\n",
              "2 1970-01-01 00:00:00.030       CS  Transient Thermal values thru. The whole vessel          -785.52           1300.0           353.93\n",
              "3 1970-01-01 00:00:00.040       CS  Transient Thermal values thru. The whole vessel          -775.53           1300.0           354.36\n",
              "4 1970-01-01 00:00:00.050       CS  Transient Thermal values thru. The whole vessel          -765.63           1300.0           354.80"
            ]
          },
          "metadata": {
            "tags": []
          },
          "execution_count": 17
        }
      ]
    },
    {
      "cell_type": "code",
      "metadata": {
        "colab": {
          "base_uri": "https://localhost:8080/"
        },
        "id": "Mqv5kHRKqS-M",
        "outputId": "0b1b1611-4bda-45fd-edee-a698e5b5d166"
      },
      "source": [
        "print(data['Condition'].unique())  \n",
        "print(data['Material'].unique()) "
      ],
      "execution_count": null,
      "outputs": [
        {
          "output_type": "stream",
          "text": [
            "['Transient Thermal values thru. The whole vessel'\n",
            " 'Total Heat Flux values thru. The whole vessel'\n",
            " 'Transient temp. at Topside Wall' 'Total heat flux at the Topside'\n",
            " 'Transient temp. at the Vessel side' 'Total heat flux at the Vessel side'\n",
            " 'Transient Temp. at the Bottom wall' 'Total heat flux at the Bottom wall']\n",
            "['CS' 'SS' 'AL']\n"
          ],
          "name": "stdout"
        }
      ]
    },
    {
      "cell_type": "markdown",
      "metadata": {
        "id": "NgnOKMoqq4e2"
      },
      "source": [
        "Analysis for Transient Thermal values thru. The whole vessel (SS)"
      ]
    },
    {
      "cell_type": "code",
      "metadata": {
        "id": "F6npT2zBrCNV"
      },
      "source": [
        "df = data[(data['Material']=='SS') & (data['Condition']=='Transient Thermal values thru. The whole vessel')]"
      ],
      "execution_count": null,
      "outputs": []
    },
    {
      "cell_type": "code",
      "metadata": {
        "colab": {
          "base_uri": "https://localhost:8080/"
        },
        "id": "63jB3pj-f1kQ",
        "outputId": "092ed8a5-116c-4dfe-b3ec-bbb0b1611716"
      },
      "source": [
        "print(data['Condition'].unique())  \n",
        "print(data['Material'].unique()) "
      ],
      "execution_count": null,
      "outputs": [
        {
          "output_type": "stream",
          "text": [
            "['Transient Thermal values thru. The whole vessel'\n",
            " 'Total Heat Flux values thru. The whole vessel'\n",
            " 'Transient temp. at Topside Wall' 'Total heat flux at the Topside'\n",
            " 'Transient temp. at the Vessel side' 'Total heat flux at the Vessel side'\n",
            " 'Transient Temp. at the Bottom wall' 'Total heat flux at the Bottom wall']\n",
            "['CS' 'SS' 'AL']\n"
          ],
          "name": "stdout"
        }
      ]
    },
    {
      "cell_type": "code",
      "metadata": {
        "colab": {
          "base_uri": "https://localhost:8080/",
          "height": 306
        },
        "id": "_dPy76PJPe7X",
        "outputId": "34881788-f8cc-4a38-d367-9ba46be27c5d"
      },
      "source": [
        "df.head()"
      ],
      "execution_count": null,
      "outputs": [
        {
          "output_type": "execute_result",
          "data": {
            "text/html": [
              "<div>\n",
              "<style scoped>\n",
              "    .dataframe tbody tr th:only-of-type {\n",
              "        vertical-align: middle;\n",
              "    }\n",
              "\n",
              "    .dataframe tbody tr th {\n",
              "        vertical-align: top;\n",
              "    }\n",
              "\n",
              "    .dataframe thead th {\n",
              "        text-align: right;\n",
              "    }\n",
              "</style>\n",
              "<table border=\"1\" class=\"dataframe\">\n",
              "  <thead>\n",
              "    <tr style=\"text-align: right;\">\n",
              "      <th></th>\n",
              "      <th>Time(s)</th>\n",
              "      <th>Material</th>\n",
              "      <th>Condition</th>\n",
              "      <th>Minimum(deg. C)</th>\n",
              "      <th>Maximum(deg. C)</th>\n",
              "      <th>Average(deg. C)</th>\n",
              "    </tr>\n",
              "  </thead>\n",
              "  <tbody>\n",
              "    <tr>\n",
              "      <th>1600</th>\n",
              "      <td>1970-01-01 00:00:00.010</td>\n",
              "      <td>SS</td>\n",
              "      <td>Transient Thermal values thru. The whole vessel</td>\n",
              "      <td>-813.68</td>\n",
              "      <td>1390.8</td>\n",
              "      <td>360.13</td>\n",
              "    </tr>\n",
              "    <tr>\n",
              "      <th>1601</th>\n",
              "      <td>1970-01-01 00:00:00.020</td>\n",
              "      <td>SS</td>\n",
              "      <td>Transient Thermal values thru. The whole vessel</td>\n",
              "      <td>-811.32</td>\n",
              "      <td>1381.2</td>\n",
              "      <td>367.39</td>\n",
              "    </tr>\n",
              "    <tr>\n",
              "      <th>1602</th>\n",
              "      <td>1970-01-01 00:00:00.030</td>\n",
              "      <td>SS</td>\n",
              "      <td>Transient Thermal values thru. The whole vessel</td>\n",
              "      <td>-808.97</td>\n",
              "      <td>1372.4</td>\n",
              "      <td>374.51</td>\n",
              "    </tr>\n",
              "    <tr>\n",
              "      <th>1603</th>\n",
              "      <td>1970-01-01 00:00:00.040</td>\n",
              "      <td>SS</td>\n",
              "      <td>Transient Thermal values thru. The whole vessel</td>\n",
              "      <td>-806.62</td>\n",
              "      <td>1364.7</td>\n",
              "      <td>381.52</td>\n",
              "    </tr>\n",
              "    <tr>\n",
              "      <th>1604</th>\n",
              "      <td>1970-01-01 00:00:00.050</td>\n",
              "      <td>SS</td>\n",
              "      <td>Transient Thermal values thru. The whole vessel</td>\n",
              "      <td>-804.27</td>\n",
              "      <td>1357.7</td>\n",
              "      <td>388.40</td>\n",
              "    </tr>\n",
              "  </tbody>\n",
              "</table>\n",
              "</div>"
            ],
            "text/plain": [
              "                     Time(s) Material                                        Condition  Minimum(deg. C)  Maximum(deg. C)  Average(deg. C)\n",
              "1600 1970-01-01 00:00:00.010       SS  Transient Thermal values thru. The whole vessel          -813.68           1390.8           360.13\n",
              "1601 1970-01-01 00:00:00.020       SS  Transient Thermal values thru. The whole vessel          -811.32           1381.2           367.39\n",
              "1602 1970-01-01 00:00:00.030       SS  Transient Thermal values thru. The whole vessel          -808.97           1372.4           374.51\n",
              "1603 1970-01-01 00:00:00.040       SS  Transient Thermal values thru. The whole vessel          -806.62           1364.7           381.52\n",
              "1604 1970-01-01 00:00:00.050       SS  Transient Thermal values thru. The whole vessel          -804.27           1357.7           388.40"
            ]
          },
          "metadata": {
            "tags": []
          },
          "execution_count": 21
        }
      ]
    },
    {
      "cell_type": "markdown",
      "metadata": {
        "id": "5I-e0fBFsS46"
      },
      "source": [
        "Forecasting Maximum Temperature"
      ]
    },
    {
      "cell_type": "code",
      "metadata": {
        "id": "-XMzfX7gxqgW"
      },
      "source": [
        "target = 'Maximum(deg. C)'"
      ],
      "execution_count": null,
      "outputs": []
    },
    {
      "cell_type": "code",
      "metadata": {
        "id": "9rmWZT6Grp54"
      },
      "source": [
        "df = df.loc[:,['Time(s)', target]]\n",
        "df['temp'] = df[target]\n",
        "df = df.loc[:,['Time(s)', 'temp']]"
      ],
      "execution_count": null,
      "outputs": []
    },
    {
      "cell_type": "code",
      "metadata": {
        "colab": {
          "base_uri": "https://localhost:8080/",
          "height": 297
        },
        "id": "atRcfT2SbFcf",
        "outputId": "39ce40af-cc0b-40f7-c940-208bc19c96b9"
      },
      "source": [
        "df.describe()"
      ],
      "execution_count": null,
      "outputs": [
        {
          "output_type": "execute_result",
          "data": {
            "text/html": [
              "<div>\n",
              "<style scoped>\n",
              "    .dataframe tbody tr th:only-of-type {\n",
              "        vertical-align: middle;\n",
              "    }\n",
              "\n",
              "    .dataframe tbody tr th {\n",
              "        vertical-align: top;\n",
              "    }\n",
              "\n",
              "    .dataframe thead th {\n",
              "        text-align: right;\n",
              "    }\n",
              "</style>\n",
              "<table border=\"1\" class=\"dataframe\">\n",
              "  <thead>\n",
              "    <tr style=\"text-align: right;\">\n",
              "      <th></th>\n",
              "      <th>temp</th>\n",
              "    </tr>\n",
              "  </thead>\n",
              "  <tbody>\n",
              "    <tr>\n",
              "      <th>count</th>\n",
              "      <td>200.000000</td>\n",
              "    </tr>\n",
              "    <tr>\n",
              "      <th>mean</th>\n",
              "      <td>6837.334000</td>\n",
              "    </tr>\n",
              "    <tr>\n",
              "      <th>std</th>\n",
              "      <td>2523.778259</td>\n",
              "    </tr>\n",
              "    <tr>\n",
              "      <th>min</th>\n",
              "      <td>1351.700000</td>\n",
              "    </tr>\n",
              "    <tr>\n",
              "      <th>25%</th>\n",
              "      <td>5171.125000</td>\n",
              "    </tr>\n",
              "    <tr>\n",
              "      <th>50%</th>\n",
              "      <td>7412.550000</td>\n",
              "    </tr>\n",
              "    <tr>\n",
              "      <th>75%</th>\n",
              "      <td>8925.325000</td>\n",
              "    </tr>\n",
              "    <tr>\n",
              "      <th>max</th>\n",
              "      <td>10200.000000</td>\n",
              "    </tr>\n",
              "  </tbody>\n",
              "</table>\n",
              "</div>"
            ],
            "text/plain": [
              "               temp\n",
              "count    200.000000\n",
              "mean    6837.334000\n",
              "std     2523.778259\n",
              "min     1351.700000\n",
              "25%     5171.125000\n",
              "50%     7412.550000\n",
              "75%     8925.325000\n",
              "max    10200.000000"
            ]
          },
          "metadata": {
            "tags": []
          },
          "execution_count": 24
        }
      ]
    },
    {
      "cell_type": "code",
      "metadata": {
        "colab": {
          "base_uri": "https://localhost:8080/",
          "height": 204
        },
        "id": "Gzh2MEU0sV1s",
        "outputId": "fdf172cf-68d0-4a07-c040-324c270471d8"
      },
      "source": [
        "df.head()"
      ],
      "execution_count": null,
      "outputs": [
        {
          "output_type": "execute_result",
          "data": {
            "text/html": [
              "<div>\n",
              "<style scoped>\n",
              "    .dataframe tbody tr th:only-of-type {\n",
              "        vertical-align: middle;\n",
              "    }\n",
              "\n",
              "    .dataframe tbody tr th {\n",
              "        vertical-align: top;\n",
              "    }\n",
              "\n",
              "    .dataframe thead th {\n",
              "        text-align: right;\n",
              "    }\n",
              "</style>\n",
              "<table border=\"1\" class=\"dataframe\">\n",
              "  <thead>\n",
              "    <tr style=\"text-align: right;\">\n",
              "      <th></th>\n",
              "      <th>Time(s)</th>\n",
              "      <th>temp</th>\n",
              "    </tr>\n",
              "  </thead>\n",
              "  <tbody>\n",
              "    <tr>\n",
              "      <th>1600</th>\n",
              "      <td>1970-01-01 00:00:00.010</td>\n",
              "      <td>1390.8</td>\n",
              "    </tr>\n",
              "    <tr>\n",
              "      <th>1601</th>\n",
              "      <td>1970-01-01 00:00:00.020</td>\n",
              "      <td>1381.2</td>\n",
              "    </tr>\n",
              "    <tr>\n",
              "      <th>1602</th>\n",
              "      <td>1970-01-01 00:00:00.030</td>\n",
              "      <td>1372.4</td>\n",
              "    </tr>\n",
              "    <tr>\n",
              "      <th>1603</th>\n",
              "      <td>1970-01-01 00:00:00.040</td>\n",
              "      <td>1364.7</td>\n",
              "    </tr>\n",
              "    <tr>\n",
              "      <th>1604</th>\n",
              "      <td>1970-01-01 00:00:00.050</td>\n",
              "      <td>1357.7</td>\n",
              "    </tr>\n",
              "  </tbody>\n",
              "</table>\n",
              "</div>"
            ],
            "text/plain": [
              "                     Time(s)    temp\n",
              "1600 1970-01-01 00:00:00.010  1390.8\n",
              "1601 1970-01-01 00:00:00.020  1381.2\n",
              "1602 1970-01-01 00:00:00.030  1372.4\n",
              "1603 1970-01-01 00:00:00.040  1364.7\n",
              "1604 1970-01-01 00:00:00.050  1357.7"
            ]
          },
          "metadata": {
            "tags": []
          },
          "execution_count": 25
        }
      ]
    },
    {
      "cell_type": "markdown",
      "metadata": {
        "id": "5-5aMNBAJeE8"
      },
      "source": [
        "## Visualization"
      ]
    },
    {
      "cell_type": "code",
      "metadata": {
        "id": "qPa5wPMqsvKY"
      },
      "source": [
        "y = df.set_index('Time(s)')"
      ],
      "execution_count": null,
      "outputs": []
    },
    {
      "cell_type": "code",
      "metadata": {
        "colab": {
          "base_uri": "https://localhost:8080/",
          "height": 408
        },
        "id": "DA6JezSBs4nF",
        "outputId": "d688b43d-f672-45c8-c8d9-65247ca17c76"
      },
      "source": [
        "#data visualization\n",
        "y.plot(figsize=(15, 6))\n",
        "plt.title('Maximum(deg. C) vs Time(s)')\n",
        "plt.xlabel('Seconds')\n",
        "plt.show()"
      ],
      "execution_count": null,
      "outputs": [
        {
          "output_type": "display_data",
          "data": {
            "image/png": "[encoded data removed]",
            "text/plain": [
              "<Figure size 1080x432 with 1 Axes>"
            ]
          },
          "metadata": {
            "tags": []
          }
        }
      ]
    },
    {
      "cell_type": "code",
      "metadata": {
        "colab": {
          "base_uri": "https://localhost:8080/",
          "height": 883
        },
        "id": "z0mDwvTvtDGU",
        "outputId": "1498909c-3395-4129-aa37-8b75dad9364f"
      },
      "source": [
        "#examining data distribution\n",
        "plt.figure(1, figsize= (16,16))\n",
        "plt.subplot(211)\n",
        "plt.title('Distribution of the Data (Histogram)')\n",
        "y.temp.hist()\n",
        "#add bottom space\n",
        "plt.subplots_adjust(bottom  = 0.05)    \n",
        "plt.subplot(212)\n",
        "plt.title('Density Distribution')\n",
        "y.temp.plot(kind='kde')\n",
        "plt.show()"
      ],
      "execution_count": null,
      "outputs": [
        {
          "output_type": "display_data",
          "data": {
            "image/png": "[encoded data removed]",
            "text/plain": [
              "<Figure size 1152x1152 with 2 Axes>"
            ]
          },
          "metadata": {
            "tags": []
          }
        }
      ]
    },
    {
      "cell_type": "code",
      "metadata": {
        "id": "AUkwNmi_ixMm"
      },
      "source": [
        "  #train validation split\n",
        "train = df[:int(0.75*(len(df)))]\n",
        "valid = df[int(0.75*(len(df))):]\n",
        "train.set_index('Time(s)', inplace=True)\n",
        "valid.set_index('Time(s)', inplace=True)"
      ],
      "execution_count": null,
      "outputs": []
    },
    {
      "cell_type": "code",
      "metadata": {
        "colab": {
          "base_uri": "https://localhost:8080/"
        },
        "id": "qcdug0KjjUjz",
        "outputId": "371375af-579e-46f5-a6df-8e92d9b3f5e3"
      },
      "source": [
        "print(train.head()), print(valid.head())"
      ],
      "execution_count": null,
      "outputs": [
        {
          "output_type": "stream",
          "text": [
            "                           temp\n",
            "Time(s)                        \n",
            "1970-01-01 00:00:00.010  1390.8\n",
            "1970-01-01 00:00:00.020  1381.2\n",
            "1970-01-01 00:00:00.030  1372.4\n",
            "1970-01-01 00:00:00.040  1364.7\n",
            "1970-01-01 00:00:00.050  1357.7\n",
            "                           temp\n",
            "Time(s)                        \n",
            "1970-01-01 00:00:01.510  8945.8\n",
            "1970-01-01 00:00:01.520  8973.0\n",
            "1970-01-01 00:00:01.530  9000.0\n",
            "1970-01-01 00:00:01.540  9027.1\n",
            "1970-01-01 00:00:01.550  9054.0\n"
          ],
          "name": "stdout"
        },
        {
          "output_type": "execute_result",
          "data": {
            "text/plain": [
              "(None, None)"
            ]
          },
          "metadata": {
            "tags": []
          },
          "execution_count": 30
        }
      ]
    },
    {
      "cell_type": "code",
      "metadata": {
        "colab": {
          "base_uri": "https://localhost:8080/",
          "height": 415
        },
        "id": "-f4lZ3CmJ5oJ",
        "outputId": "1c4da371-d299-46b8-d73c-d8f371eeff52"
      },
      "source": [
        "plt.figure(figsize=(12,5), dpi=100)\n",
        "plt.plot(valid, label='Validation')\n",
        "plt.plot(train, label='Training')\n",
        "plt.title('Train/Validation Split')\n",
        "plt.legend(loc='upper left', fontsize=8)\n",
        "plt.show()"
      ],
      "execution_count": null,
      "outputs": [
        {
          "output_type": "display_data",
          "data": {
            "image/png": "[encoded data removed]",
            "text/plain": [
              "<Figure size 1200x500 with 1 Axes>"
            ]
          },
          "metadata": {
            "tags": []
          }
        }
      ]
    },
    {
      "cell_type": "markdown",
      "metadata": {
        "id": "fKONxXp1KPtJ"
      },
      "source": [
        "## Time Series Forcast \n"
      ]
    },
    {
      "cell_type": "code",
      "metadata": {
        "id": "mzO3tyuIZt2M"
      },
      "source": [
        "train_prophet = pd.DataFrame()\n",
        "train_prophet['ds'] = train.index\n",
        "train_prophet['y'] = train.temp.values\n",
        "#train_prophet['cap'] = max(train.temp)\n",
        "#train_prophet['floor'] = min(train.temp)"
      ],
      "execution_count": null,
      "outputs": []
    },
    {
      "cell_type": "code",
      "metadata": {
        "colab": {
          "base_uri": "https://localhost:8080/",
          "height": 204
        },
        "id": "Gqn7wu-6a7OB",
        "outputId": "f6abf1e1-0841-47d5-ad5b-514c6ceb93fc"
      },
      "source": [
        "train_prophet.tail()"
      ],
      "execution_count": null,
      "outputs": [
        {
          "output_type": "execute_result",
          "data": {
            "text/html": [
              "<div>\n",
              "<style scoped>\n",
              "    .dataframe tbody tr th:only-of-type {\n",
              "        vertical-align: middle;\n",
              "    }\n",
              "\n",
              "    .dataframe tbody tr th {\n",
              "        vertical-align: top;\n",
              "    }\n",
              "\n",
              "    .dataframe thead th {\n",
              "        text-align: right;\n",
              "    }\n",
              "</style>\n",
              "<table border=\"1\" class=\"dataframe\">\n",
              "  <thead>\n",
              "    <tr style=\"text-align: right;\">\n",
              "      <th></th>\n",
              "      <th>ds</th>\n",
              "      <th>y</th>\n",
              "    </tr>\n",
              "  </thead>\n",
              "  <tbody>\n",
              "    <tr>\n",
              "      <th>145</th>\n",
              "      <td>1970-01-01 00:00:01.460</td>\n",
              "      <td>8808.6</td>\n",
              "    </tr>\n",
              "    <tr>\n",
              "      <th>146</th>\n",
              "      <td>1970-01-01 00:00:01.470</td>\n",
              "      <td>8836.2</td>\n",
              "    </tr>\n",
              "    <tr>\n",
              "      <th>147</th>\n",
              "      <td>1970-01-01 00:00:01.480</td>\n",
              "      <td>8863.7</td>\n",
              "    </tr>\n",
              "    <tr>\n",
              "      <th>148</th>\n",
              "      <td>1970-01-01 00:00:01.490</td>\n",
              "      <td>8891.2</td>\n",
              "    </tr>\n",
              "    <tr>\n",
              "      <th>149</th>\n",
              "      <td>1970-01-01 00:00:01.500</td>\n",
              "      <td>8918.5</td>\n",
              "    </tr>\n",
              "  </tbody>\n",
              "</table>\n",
              "</div>"
            ],
            "text/plain": [
              "                         ds       y\n",
              "145 1970-01-01 00:00:01.460  8808.6\n",
              "146 1970-01-01 00:00:01.470  8836.2\n",
              "147 1970-01-01 00:00:01.480  8863.7\n",
              "148 1970-01-01 00:00:01.490  8891.2\n",
              "149 1970-01-01 00:00:01.500  8918.5"
            ]
          },
          "metadata": {
            "tags": []
          },
          "execution_count": 33
        }
      ]
    },
    {
      "cell_type": "code",
      "metadata": {
        "colab": {
          "base_uri": "https://localhost:8080/",
          "height": 255
        },
        "id": "JIRmnzuHaBp8",
        "outputId": "0e9fc794-faf8-4672-8b76-30a40e24b88b"
      },
      "source": [
        "#instantiate Prophet with only yearly seasonality as our data is monthly \n",
        "model = Prophet(seasonality_mode ='multiplicative', growth='linear') #seasonality_mode = 'additive', growth='logistic'\n",
        "\n",
        "#fit the model with your dataframe\n",
        "model.fit(train_prophet) #fit the model with your dataframe\n",
        "\n",
        "#generate future time range till 5 seconds\n",
        "future = model.make_future_dataframe(periods = 350, freq='10ms')\n",
        "#future['cap'] = max(train.temp)\n",
        "#future['floor'] = min(train.temp)\n",
        "#view bottom five\n",
        "future.tail()"
      ],
      "execution_count": null,
      "outputs": [
        {
          "output_type": "stream",
          "text": [
            "INFO:fbprophet:Disabling yearly seasonality. Run prophet with yearly_seasonality=True to override this.\n",
            "INFO:fbprophet:Disabling weekly seasonality. Run prophet with weekly_seasonality=True to override this.\n",
            "INFO:fbprophet:Disabling daily seasonality. Run prophet with daily_seasonality=True to override this.\n"
          ],
          "name": "stderr"
        },
        {
          "output_type": "execute_result",
          "data": {
            "text/html": [
              "<div>\n",
              "<style scoped>\n",
              "    .dataframe tbody tr th:only-of-type {\n",
              "        vertical-align: middle;\n",
              "    }\n",
              "\n",
              "    .dataframe tbody tr th {\n",
              "        vertical-align: top;\n",
              "    }\n",
              "\n",
              "    .dataframe thead th {\n",
              "        text-align: right;\n",
              "    }\n",
              "</style>\n",
              "<table border=\"1\" class=\"dataframe\">\n",
              "  <thead>\n",
              "    <tr style=\"text-align: right;\">\n",
              "      <th></th>\n",
              "      <th>ds</th>\n",
              "    </tr>\n",
              "  </thead>\n",
              "  <tbody>\n",
              "    <tr>\n",
              "      <th>495</th>\n",
              "      <td>1970-01-01 00:00:04.960</td>\n",
              "    </tr>\n",
              "    <tr>\n",
              "      <th>496</th>\n",
              "      <td>1970-01-01 00:00:04.970</td>\n",
              "    </tr>\n",
              "    <tr>\n",
              "      <th>497</th>\n",
              "      <td>1970-01-01 00:00:04.980</td>\n",
              "    </tr>\n",
              "    <tr>\n",
              "      <th>498</th>\n",
              "      <td>1970-01-01 00:00:04.990</td>\n",
              "    </tr>\n",
              "    <tr>\n",
              "      <th>499</th>\n",
              "      <td>1970-01-01 00:00:05.000</td>\n",
              "    </tr>\n",
              "  </tbody>\n",
              "</table>\n",
              "</div>"
            ],
            "text/plain": [
              "                         ds\n",
              "495 1970-01-01 00:00:04.960\n",
              "496 1970-01-01 00:00:04.970\n",
              "497 1970-01-01 00:00:04.980\n",
              "498 1970-01-01 00:00:04.990\n",
              "499 1970-01-01 00:00:05.000"
            ]
          },
          "metadata": {
            "tags": []
          },
          "execution_count": 34
        }
      ]
    },
    {
      "cell_type": "code",
      "metadata": {
        "colab": {
          "base_uri": "https://localhost:8080/",
          "height": 204
        },
        "id": "KVTqdM-AaBn7",
        "outputId": "3c6015c7-9d41-4b50-bdd6-e3c58cd23e1c"
      },
      "source": [
        "#forecasts\n",
        "forecast = model.predict(future)\n",
        "forecast[['ds', 'yhat', 'yhat_lower', 'yhat_upper']].tail()"
      ],
      "execution_count": null,
      "outputs": [
        {
          "output_type": "execute_result",
          "data": {
            "text/html": [
              "<div>\n",
              "<style scoped>\n",
              "    .dataframe tbody tr th:only-of-type {\n",
              "        vertical-align: middle;\n",
              "    }\n",
              "\n",
              "    .dataframe tbody tr th {\n",
              "        vertical-align: top;\n",
              "    }\n",
              "\n",
              "    .dataframe thead th {\n",
              "        text-align: right;\n",
              "    }\n",
              "</style>\n",
              "<table border=\"1\" class=\"dataframe\">\n",
              "  <thead>\n",
              "    <tr style=\"text-align: right;\">\n",
              "      <th></th>\n",
              "      <th>ds</th>\n",
              "      <th>yhat</th>\n",
              "      <th>yhat_lower</th>\n",
              "      <th>yhat_upper</th>\n",
              "    </tr>\n",
              "  </thead>\n",
              "  <tbody>\n",
              "    <tr>\n",
              "      <th>495</th>\n",
              "      <td>1970-01-01 00:00:04.960</td>\n",
              "      <td>18949.206610</td>\n",
              "      <td>-4352.137225</td>\n",
              "      <td>43032.751359</td>\n",
              "    </tr>\n",
              "    <tr>\n",
              "      <th>496</th>\n",
              "      <td>1970-01-01 00:00:04.970</td>\n",
              "      <td>18978.171284</td>\n",
              "      <td>-4463.829450</td>\n",
              "      <td>43147.808660</td>\n",
              "    </tr>\n",
              "    <tr>\n",
              "      <th>497</th>\n",
              "      <td>1970-01-01 00:00:04.980</td>\n",
              "      <td>19007.135958</td>\n",
              "      <td>-4572.218502</td>\n",
              "      <td>43248.039093</td>\n",
              "    </tr>\n",
              "    <tr>\n",
              "      <th>498</th>\n",
              "      <td>1970-01-01 00:00:04.990</td>\n",
              "      <td>19036.100633</td>\n",
              "      <td>-4687.687661</td>\n",
              "      <td>43383.436885</td>\n",
              "    </tr>\n",
              "    <tr>\n",
              "      <th>499</th>\n",
              "      <td>1970-01-01 00:00:05.000</td>\n",
              "      <td>19065.065307</td>\n",
              "      <td>-4810.815243</td>\n",
              "      <td>43492.145082</td>\n",
              "    </tr>\n",
              "  </tbody>\n",
              "</table>\n",
              "</div>"
            ],
            "text/plain": [
              "                         ds          yhat   yhat_lower    yhat_upper\n",
              "495 1970-01-01 00:00:04.960  18949.206610 -4352.137225  43032.751359\n",
              "496 1970-01-01 00:00:04.970  18978.171284 -4463.829450  43147.808660\n",
              "497 1970-01-01 00:00:04.980  19007.135958 -4572.218502  43248.039093\n",
              "498 1970-01-01 00:00:04.990  19036.100633 -4687.687661  43383.436885\n",
              "499 1970-01-01 00:00:05.000  19065.065307 -4810.815243  43492.145082"
            ]
          },
          "metadata": {
            "tags": []
          },
          "execution_count": 35
        }
      ]
    },
    {
      "cell_type": "code",
      "metadata": {
        "id": "WcXG-8mSKw_F"
      },
      "source": [
        "# To Export Predictions\n",
        "#sub = forecast[['ds', 'yhat', 'yhat_lower', 'yhat_upper']]\n",
        "#sub.to_csv(\"modelpred.csv\", index=False)"
      ],
      "execution_count": null,
      "outputs": []
    },
    {
      "cell_type": "code",
      "metadata": {
        "id": "CxLfErxKaBkj"
      },
      "source": [
        "#set time as index\n",
        "forecast.set_index('ds', inplace=True)"
      ],
      "execution_count": null,
      "outputs": []
    },
    {
      "cell_type": "code",
      "metadata": {
        "colab": {
          "base_uri": "https://localhost:8080/",
          "height": 419
        },
        "id": "mAZSO9uQaBb-",
        "outputId": "29e0d780-f00f-4516-f0b3-60fbf8194584"
      },
      "source": [
        "#fc_series = forecast[len(train):].yhat\n",
        "#lower_series = forecast[len(train):].yhat_lower\n",
        "#upper_series = forecast[len(train):].yhat_upper\n",
        "\n",
        "fc_series = forecast.yhat\n",
        "lower_series = forecast.yhat_lower\n",
        "upper_series = forecast.yhat_upper\n",
        "\n",
        "# Plot\n",
        "plt.figure(figsize=(12,5), dpi=100)\n",
        "plt.plot(fc_series, label='Forecast')\n",
        "plt.fill_between(lower_series.index, lower_series, upper_series, color='k', alpha=.15) #limit/uncertainties\n",
        "plt.plot(valid, label='Validation')\n",
        "plt.plot(train, label='Training')\n",
        "plt.title('Forecast vs Actuals')\n",
        "plt.legend(loc='upper left', fontsize=8)\n",
        "plt.show()"
      ],
      "execution_count": null,
      "outputs": [
        {
          "output_type": "display_data",
          "data": {
            "image/png": "[encoded data removed]",
            "text/plain": [
              "<Figure size 1200x500 with 1 Axes>"
            ]
          },
          "metadata": {
            "tags": []
          }
        }
      ]
    },
    {
      "cell_type": "code",
      "metadata": {
        "colab": {
          "base_uri": "https://localhost:8080/",
          "height": 217
        },
        "id": "NiQkGF0t3SPa",
        "outputId": "9c3e0cd8-c63e-4a17-c729-683337f6eb3f"
      },
      "source": [
        "#model components\n",
        "forecast_ = forecast.reset_index()\n",
        "model.plot_components(forecast_);"
      ],
      "execution_count": null,
      "outputs": [
        {
          "output_type": "display_data",
          "data": {
            "image/png": "[encoded data removed]",
            "text/plain": [
              "<Figure size 648x216 with 1 Axes>"
            ]
          },
          "metadata": {
            "tags": []
          }
        }
      ]
    },
    {
      "cell_type": "markdown",
      "metadata": {
        "id": "Abw4FDUpKa8V"
      },
      "source": [
        "## Evaluation"
      ]
    },
    {
      "cell_type": "code",
      "metadata": {
        "id": "L5rPVpJ2BKhx"
      },
      "source": [
        "#making data frame\n",
        "y_prophet = pd.DataFrame()\n",
        "y_prophet['ds'] = y.index\n",
        "y_prophet['y'] = y.temp.values"
      ],
      "execution_count": null,
      "outputs": []
    },
    {
      "cell_type": "code",
      "metadata": {
        "id": "ZCsybJJXBdSo"
      },
      "source": [
        "#setting time as index\n",
        "y_prophet = y_prophet.set_index('ds')\n",
        "forecast_prophet = forecast"
      ],
      "execution_count": null,
      "outputs": []
    },
    {
      "cell_type": "code",
      "metadata": {
        "id": "7uixfdACBpxD"
      },
      "source": [
        "#validation time period\n",
        "validation_start_index = valid.index.min()\n",
        "validation_end_index = valid.index.max()"
      ],
      "execution_count": null,
      "outputs": []
    },
    {
      "cell_type": "code",
      "metadata": {
        "id": "Cmss_SxLGYTv"
      },
      "source": [
        "#train time period\n",
        "training_start_index = train.index.min()\n",
        "training_end_index = train.index.max()"
      ],
      "execution_count": null,
      "outputs": []
    },
    {
      "cell_type": "markdown",
      "metadata": {
        "id": "XRK7Yf5HKijK"
      },
      "source": [
        "#### Training Perfromance"
      ]
    },
    {
      "cell_type": "code",
      "metadata": {
        "colab": {
          "base_uri": "https://localhost:8080/",
          "height": 80
        },
        "id": "Z1PalJWoH2Pk",
        "outputId": "28dc3352-c95b-48b8-9cff-666cc2438863"
      },
      "source": [
        "#evaluate forecast\n",
        "evaluate_forecast(y_prophet.y[training_start_index:training_end_index], forecast_prophet.yhat[training_start_index:training_end_index])"
      ],
      "execution_count": null,
      "outputs": [
        {
          "output_type": "execute_result",
          "data": {
            "text/html": [
              "<div>\n",
              "<style scoped>\n",
              "    .dataframe tbody tr th:only-of-type {\n",
              "        vertical-align: middle;\n",
              "    }\n",
              "\n",
              "    .dataframe tbody tr th {\n",
              "        vertical-align: top;\n",
              "    }\n",
              "\n",
              "    .dataframe thead th {\n",
              "        text-align: right;\n",
              "    }\n",
              "</style>\n",
              "<table border=\"1\" class=\"dataframe\">\n",
              "  <thead>\n",
              "    <tr style=\"text-align: right;\">\n",
              "      <th></th>\n",
              "      <th>mean_absolute_error</th>\n",
              "      <th>median_absolute_error</th>\n",
              "      <th>mse</th>\n",
              "      <th>mape</th>\n",
              "      <th>rmse</th>\n",
              "    </tr>\n",
              "  </thead>\n",
              "  <tbody>\n",
              "    <tr>\n",
              "      <th>0</th>\n",
              "      <td>2.936391</td>\n",
              "      <td>0.936513</td>\n",
              "      <td>45.986836</td>\n",
              "      <td>0.122455</td>\n",
              "      <td>6.781359</td>\n",
              "    </tr>\n",
              "  </tbody>\n",
              "</table>\n",
              "</div>"
            ],
            "text/plain": [
              "   mean_absolute_error  median_absolute_error        mse      mape      rmse\n",
              "0             2.936391               0.936513  45.986836  0.122455  6.781359"
            ]
          },
          "metadata": {
            "tags": []
          },
          "execution_count": 44
        }
      ]
    },
    {
      "cell_type": "markdown",
      "metadata": {
        "id": "2ouY45VAaT2D"
      },
      "source": [
        "The model accuracy is +/- 0.022909"
      ]
    },
    {
      "cell_type": "markdown",
      "metadata": {
        "id": "KV7v5tTeKnFp"
      },
      "source": [
        "#### Validation Performance"
      ]
    },
    {
      "cell_type": "code",
      "metadata": {
        "colab": {
          "base_uri": "https://localhost:8080/",
          "height": 80
        },
        "id": "Z9a9W98_BuEc",
        "outputId": "8dbcb6b6-0850-4de5-e564-a24c0edcb92d"
      },
      "source": [
        "#evaluate forecast\n",
        "evaluate_forecast(y_prophet.y[validation_start_index:validation_end_index], forecast_prophet.yhat[validation_start_index:validation_end_index])"
      ],
      "execution_count": null,
      "outputs": [
        {
          "output_type": "execute_result",
          "data": {
            "text/html": [
              "<div>\n",
              "<style scoped>\n",
              "    .dataframe tbody tr th:only-of-type {\n",
              "        vertical-align: middle;\n",
              "    }\n",
              "\n",
              "    .dataframe tbody tr th {\n",
              "        vertical-align: top;\n",
              "    }\n",
              "\n",
              "    .dataframe thead th {\n",
              "        text-align: right;\n",
              "    }\n",
              "</style>\n",
              "<table border=\"1\" class=\"dataframe\">\n",
              "  <thead>\n",
              "    <tr style=\"text-align: right;\">\n",
              "      <th></th>\n",
              "      <th>mean_absolute_error</th>\n",
              "      <th>median_absolute_error</th>\n",
              "      <th>mse</th>\n",
              "      <th>mape</th>\n",
              "      <th>rmse</th>\n",
              "    </tr>\n",
              "  </thead>\n",
              "  <tbody>\n",
              "    <tr>\n",
              "      <th>0</th>\n",
              "      <td>81.758486</td>\n",
              "      <td>75.778486</td>\n",
              "      <td>9122.485941</td>\n",
              "      <td>0.83464</td>\n",
              "      <td>95.511706</td>\n",
              "    </tr>\n",
              "  </tbody>\n",
              "</table>\n",
              "</div>"
            ],
            "text/plain": [
              "   mean_absolute_error  median_absolute_error          mse     mape       rmse\n",
              "0            81.758486              75.778486  9122.485941  0.83464  95.511706"
            ]
          },
          "metadata": {
            "tags": []
          },
          "execution_count": 45
        }
      ]
    },
    {
      "cell_type": "code",
      "metadata": {
        "colab": {
          "base_uri": "https://localhost:8080/",
          "height": 297
        },
        "id": "kSb6omIbbfH6",
        "outputId": "f9ce9e46-e4f7-480c-8a07-bc8275e90653"
      },
      "source": [
        "df.describe()"
      ],
      "execution_count": null,
      "outputs": [
        {
          "output_type": "execute_result",
          "data": {
            "text/html": [
              "<div>\n",
              "<style scoped>\n",
              "    .dataframe tbody tr th:only-of-type {\n",
              "        vertical-align: middle;\n",
              "    }\n",
              "\n",
              "    .dataframe tbody tr th {\n",
              "        vertical-align: top;\n",
              "    }\n",
              "\n",
              "    .dataframe thead th {\n",
              "        text-align: right;\n",
              "    }\n",
              "</style>\n",
              "<table border=\"1\" class=\"dataframe\">\n",
              "  <thead>\n",
              "    <tr style=\"text-align: right;\">\n",
              "      <th></th>\n",
              "      <th>temp</th>\n",
              "    </tr>\n",
              "  </thead>\n",
              "  <tbody>\n",
              "    <tr>\n",
              "      <th>count</th>\n",
              "      <td>200.000000</td>\n",
              "    </tr>\n",
              "    <tr>\n",
              "      <th>mean</th>\n",
              "      <td>6837.334000</td>\n",
              "    </tr>\n",
              "    <tr>\n",
              "      <th>std</th>\n",
              "      <td>2523.778259</td>\n",
              "    </tr>\n",
              "    <tr>\n",
              "      <th>min</th>\n",
              "      <td>1351.700000</td>\n",
              "    </tr>\n",
              "    <tr>\n",
              "      <th>25%</th>\n",
              "      <td>5171.125000</td>\n",
              "    </tr>\n",
              "    <tr>\n",
              "      <th>50%</th>\n",
              "      <td>7412.550000</td>\n",
              "    </tr>\n",
              "    <tr>\n",
              "      <th>75%</th>\n",
              "      <td>8925.325000</td>\n",
              "    </tr>\n",
              "    <tr>\n",
              "      <th>max</th>\n",
              "      <td>10200.000000</td>\n",
              "    </tr>\n",
              "  </tbody>\n",
              "</table>\n",
              "</div>"
            ],
            "text/plain": [
              "               temp\n",
              "count    200.000000\n",
              "mean    6837.334000\n",
              "std     2523.778259\n",
              "min     1351.700000\n",
              "25%     5171.125000\n",
              "50%     7412.550000\n",
              "75%     8925.325000\n",
              "max    10200.000000"
            ]
          },
          "metadata": {
            "tags": []
          },
          "execution_count": 46
        }
      ]
    },
    {
      "cell_type": "code",
      "metadata": {
        "id": "oPwi11pBPnck"
      },
      "source": [
        ""
      ],
      "execution_count": null,
      "outputs": []
    }
  ]
}